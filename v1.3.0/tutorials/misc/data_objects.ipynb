{
 "cells": [
  {
   "cell_type": "markdown",
   "metadata": {},
   "source": [
    "### Examples of data objects"
   ]
  },
  {
   "cell_type": "markdown",
   "metadata": {},
   "source": [
    "The library supports three data types `Tabular`, `Image` and `Text` defined in the modules `omnixai.data.tabular`, `omnixai.data.image` and `omnixai.data.text`, respectively. All the supported explainers take one of these data objects as their inputs when generating explanations, e.g., an explainer vision tasks takes an `Image` object as its input. These data objects can be constructed easily from pandas dataframes, numpy arrays, Pillow images or strings. This notebook will show how to use these data objects."
   ]
  },
  {
   "cell_type": "markdown",
   "metadata": {},
   "source": [
    "#### Tabular data\n",
    "Suppose we have a pandas dataframe representing a tabular dataset with both categorical and continuous-valued features:"
   ]
  },
  {
   "cell_type": "code",
   "execution_count": 1,
   "metadata": {},
   "outputs": [],
   "source": [
    "import pandas as pd\n",
    "\n",
    "df = pd.DataFrame(\n",
    "    data=[[1, 2, 3, 'male'], [4, 5, 6, 'female']],\n",
    "    columns=['a', 'b', 'c', 'd']\n",
    ")"
   ]
  },
  {
   "cell_type": "markdown",
   "metadata": {},
   "source": [
    "The first three columns are continuous-valued features and the last column is the categorical feature. Given this dataframe, we can easily construct a `Tabular` instance by specifying the dataframe and the categorical columns:"
   ]
  },
  {
   "cell_type": "code",
   "execution_count": 2,
   "metadata": {},
   "outputs": [
    {
     "name": "stdout",
     "output_type": "stream",
     "text": [
      "   a  b  c       d\n",
      "0  1  2  3    male\n",
      "1  4  5  6  female\n"
     ]
    }
   ],
   "source": [
    "from omnixai.data.tabular import Tabular\n",
    "\n",
    "x = Tabular(\n",
    "    data=df,\n",
    "    categorical_columns=['d']\n",
    ")\n",
    "print(x)"
   ]
  },
  {
   "cell_type": "markdown",
   "metadata": {},
   "source": [
    "If we want to construct a `Tabular` instance with a numpy array, we need to set the feature columns:"
   ]
  },
  {
   "cell_type": "code",
   "execution_count": 3,
   "metadata": {},
   "outputs": [
    {
     "name": "stdout",
     "output_type": "stream",
     "text": [
      "   a  b  c       d\n",
      "0  1  2  3    male\n",
      "1  4  5  6  female\n"
     ]
    }
   ],
   "source": [
    "x = Tabular(\n",
    "    data=df.values,\n",
    "    feature_columns=['a', 'b', 'c', 'd'],\n",
    "    categorical_columns=['d']\n",
    ")\n",
    "print(x)"
   ]
  },
  {
   "cell_type": "markdown",
   "metadata": {},
   "source": [
    "`Tabular` has several useful methods:"
   ]
  },
  {
   "cell_type": "code",
   "execution_count": 4,
   "metadata": {},
   "outputs": [
    {
     "name": "stdout",
     "output_type": "stream",
     "text": [
      "Shape: (2, 4)\n",
      "Raw values:\n",
      " [[1 2 3 'male']\n",
      " [4 5 6 'female']]\n",
      "Categorical features: ['d']\n",
      "Continuous-valued features: ['a', 'b', 'c']\n",
      "All feature columns: ['a', 'b', 'c', 'd']\n"
     ]
    }
   ],
   "source": [
    "# Get the data shape\n",
    "print(f\"Shape: {x.shape}\")\n",
    "# Get the raw data values\n",
    "print(f\"Raw values:\\n {x.values}\")\n",
    "# Get the categorical feature columns\n",
    "print(f\"Categorical features: {x.categorical_columns}\")\n",
    "# Get the continuous-valued feature columns\n",
    "print(f\"Continuous-valued features: {x.continuous_columns}\")\n",
    "# Get all the feature columns\n",
    "print(f\"All feature columns: {x.feature_columns}\")"
   ]
  },
  {
   "cell_type": "markdown",
   "metadata": {},
   "source": [
    "A `Tabular` instance can be converted into a pandas dataframe or a numpy array:"
   ]
  },
  {
   "cell_type": "code",
   "execution_count": 5,
   "metadata": {},
   "outputs": [
    {
     "name": "stdout",
     "output_type": "stream",
     "text": [
      "   a  b  c       d\n",
      "0  1  2  3    male\n",
      "1  4  5  6  female\n",
      "[[1 2 3 'male']\n",
      " [4 5 6 'female']]\n"
     ]
    }
   ],
   "source": [
    "print(x.to_pd())\n",
    "print(x.to_numpy())"
   ]
  },
  {
   "cell_type": "markdown",
   "metadata": {},
   "source": [
    "The dataset represented by `Tabular` may have a target/label column, e.g., class labels in classification tasks. In the following example, the last column is the target/label column."
   ]
  },
  {
   "cell_type": "code",
   "execution_count": 6,
   "metadata": {},
   "outputs": [],
   "source": [
    "df = pd.DataFrame(\n",
    "    data=[[1, 2, 3, 'male', 'yes'], [4, 5, 6, 'female', 'no']],\n",
    "    columns=['a', 'b', 'c', 'd', 'label']\n",
    ")"
   ]
  },
  {
   "cell_type": "markdown",
   "metadata": {},
   "source": [
    "To construct a `Tabular` instance, besides setting categorical feature columns, we also need to set the target/label column:"
   ]
  },
  {
   "cell_type": "code",
   "execution_count": 7,
   "metadata": {},
   "outputs": [
    {
     "name": "stdout",
     "output_type": "stream",
     "text": [
      "   a  b  c       d label\n",
      "0  1  2  3    male   yes\n",
      "1  4  5  6  female    no\n",
      "Target column: label\n"
     ]
    }
   ],
   "source": [
    "x = Tabular(\n",
    "    data=df,\n",
    "    categorical_columns=['d'],\n",
    "    target_column='label'\n",
    ")\n",
    "print(x)\n",
    "print(f\"Target column: {x.target_column}\")"
   ]
  },
  {
   "cell_type": "markdown",
   "metadata": {},
   "source": [
    "To get a subset of the rows of `x`:"
   ]
  },
  {
   "cell_type": "code",
   "execution_count": 8,
   "metadata": {},
   "outputs": [
    {
     "name": "stdout",
     "output_type": "stream",
     "text": [
      "The first row:\n",
      "   a  b  c     d label\n",
      "0  1  2  3  male   yes\n",
      "The second row:\n",
      "   a  b  c       d label\n",
      "1  4  5  6  female    no\n",
      "Swap the two rows:\n",
      "   a  b  c       d label\n",
      "1  4  5  6  female    no\n",
      "0  1  2  3    male   yes\n"
     ]
    }
   ],
   "source": [
    "print(\"The first row:\")\n",
    "print(x[0])\n",
    "print(\"The second row:\")\n",
    "print(x[1])\n",
    "print(\"Swap the two rows:\")\n",
    "print(x[[1, 0]])"
   ]
  },
  {
   "cell_type": "markdown",
   "metadata": {},
   "source": [
    "#### Image data\n",
    "An `Image` object can be constructed from a numpy array (a batch of images) or a Pillow image. For example, a numpy array contains a batch of MNIST digit images:"
   ]
  },
  {
   "cell_type": "code",
   "execution_count": 9,
   "metadata": {},
   "outputs": [
    {
     "name": "stdout",
     "output_type": "stream",
     "text": [
      "(10000, 28, 28)\n"
     ]
    }
   ],
   "source": [
    "import torchvision\n",
    "\n",
    "test_data = torchvision.datasets.MNIST(root='../data', train=False, download=True)\n",
    "imgs = test_data.data.numpy()\n",
    "print(imgs.shape)"
   ]
  },
  {
   "cell_type": "markdown",
   "metadata": {},
   "source": [
    "An `Image` object can be created as follows:"
   ]
  },
  {
   "cell_type": "code",
   "execution_count": 10,
   "metadata": {},
   "outputs": [],
   "source": [
    "from omnixai.data.image import Image\n",
    "\n",
    "# `batched = True` means `data` contains a batch of images with \n",
    "# shape `(batch_size, height, width)` or `(batch_size, height, width, channel)`.\n",
    "images = Image(data=imgs, batched=True)"
   ]
  },
  {
   "cell_type": "markdown",
   "metadata": {},
   "source": [
    "Here are some useful functions:"
   ]
  },
  {
   "cell_type": "code",
   "execution_count": 11,
   "metadata": {},
   "outputs": [
    {
     "name": "stdout",
     "output_type": "stream",
     "text": [
      "Data shape: (10000, 28, 28, 1)\n",
      "Image shape: (28, 28, 1)\n",
      "The first image (Pillow):\n"
     ]
    },
    {
     "data": {
      "image/png": "[encoded data removed]",
      "text/plain": [
       "<PIL.Image.Image image mode=L size=28x28 at 0x7F4D50A60410>"
      ]
     },
     "metadata": {},
     "output_type": "display_data"
    },
    {
     "name": "stdout",
     "output_type": "stream",
     "text": [
      "The second image (Pillow):\n"
     ]
    },
    {
     "data": {
      "image/png": "[encoded data removed]",
      "text/plain": [
       "<PIL.Image.Image image mode=L size=28x28 at 0x7F4D509E3850>"
      ]
     },
     "metadata": {},
     "output_type": "display_data"
    },
    {
     "name": "stdout",
     "output_type": "stream",
     "text": [
      "Loop:\n",
      "(1, 28, 28, 1)\n",
      "(1, 28, 28, 1)\n",
      "(1, 28, 28, 1)\n",
      "(1, 28, 28, 1)\n",
      "(1, 28, 28, 1)\n"
     ]
    }
   ],
   "source": [
    "print(f\"Data shape: {images.shape}\")\n",
    "print(f\"Image shape: {images.image_shape}\")\n",
    "\n",
    "print(f\"The first image (Pillow):\")\n",
    "display(images[0].to_pil())\n",
    "print(f\"The second image (Pillow):\")\n",
    "display(images[1].to_pil())\n",
    "\n",
    "print(\"Loop:\")\n",
    "for im in images[:5]:\n",
    "    print(im.shape)"
   ]
  },
  {
   "cell_type": "markdown",
   "metadata": {},
   "source": [
    "We can also convert `Image` into a numpy array:"
   ]
  },
  {
   "cell_type": "code",
   "execution_count": 12,
   "metadata": {},
   "outputs": [
    {
     "name": "stdout",
     "output_type": "stream",
     "text": [
      "Numpy array shape: (10000, 28, 28)\n",
      "Numpy array shape: (10000, 28, 28, 1)\n",
      "Numpy array shape: (10000, 1, 28, 28)\n"
     ]
    }
   ],
   "source": [
    "print(f\"Numpy array shape: {images.to_numpy().shape}\")\n",
    "print(f\"Numpy array shape: {images.to_numpy(keepdim=True).shape}\")\n",
    "print(f\"Numpy array shape: {images.to_numpy(hwc=False, keepdim=True).shape}\")"
   ]
  },
  {
   "cell_type": "markdown",
   "metadata": {},
   "source": [
    "A color image example:"
   ]
  },
  {
   "cell_type": "code",
   "execution_count": 13,
   "metadata": {},
   "outputs": [
    {
     "name": "stdout",
     "output_type": "stream",
     "text": [
      "Data shape: (1, 224, 224, 3)\n",
      "Image shape: (224, 224, 3)\n",
      "The image (Pillow):\n"
     ]
    },
    {
     "data": {
      "image/png": "[encoded data removed]",
      "text/plain": [
       "<PIL.Image.Image image mode=RGB size=224x224 at 0x7F4D509E3AD0>"
      ]
     },
     "metadata": {},
     "output_type": "display_data"
    }
   ],
   "source": [
    "from PIL import Image as PilImage\n",
    "\n",
    "img = Image(PilImage.open('../data/images/camera.jpg').convert('RGB'))\n",
    "print(f\"Data shape: {img.shape}\")\n",
    "print(f\"Image shape: {img.image_shape}\")\n",
    "print(f\"The image (Pillow):\")\n",
    "# `to_pil` returns a single Pillow image if `batch_size = 1` or a list of Pillow images if `batch_size > 1`.\n",
    "display(img.to_pil())"
   ]
  },
  {
   "cell_type": "code",
   "execution_count": 14,
   "metadata": {},
   "outputs": [
    {
     "name": "stdout",
     "output_type": "stream",
     "text": [
      "Numpy array shape: (1, 224, 224, 3)\n",
      "Numpy array shape: (1, 224, 224, 3)\n",
      "Numpy array shape: (1, 3, 224, 224)\n"
     ]
    }
   ],
   "source": [
    "print(f\"Numpy array shape: {img.to_numpy().shape}\")\n",
    "print(f\"Numpy array shape: {img.to_numpy(keepdim=True).shape}\")\n",
    "print(f\"Numpy array shape: {img.to_numpy(hwc=False, keepdim=True).shape}\")"
   ]
  },
  {
   "cell_type": "markdown",
   "metadata": {},
   "source": [
    "#### Text data\n",
    "A `Text` object represents a batch of texts or sentences stored in a list. For example,"
   ]
  },
  {
   "cell_type": "code",
   "execution_count": 15,
   "metadata": {},
   "outputs": [],
   "source": [
    "from omnixai.data.text import Text\n",
    "\n",
    "x = Text([\n",
    "    \"What a great movie! if you have no taste.\",\n",
    "    \"it was a fantastic performance!\",\n",
    "    \"best film ever\",\n",
    "    \"such a great show!\",\n",
    "    \"it was a horrible movie\",\n",
    "    \"i've never watched something as bad\"\n",
    "])"
   ]
  },
  {
   "cell_type": "markdown",
   "metadata": {},
   "source": [
    "Here are some useful functions:"
   ]
  },
  {
   "cell_type": "code",
   "execution_count": 16,
   "metadata": {},
   "outputs": [
    {
     "name": "stdout",
     "output_type": "stream",
     "text": [
      "Number of sentences: 6\n",
      "The first sentence: ['What a great movie! if you have no taste.']\n",
      "Raw strings: ['What a great movie! if you have no taste.', 'it was a fantastic performance!', 'best film ever', 'such a great show!', 'it was a horrible movie', \"i've never watched something as bad\"]\n"
     ]
    }
   ],
   "source": [
    "print(f\"Number of sentences: {len(x)}\")\n",
    "print(f\"The first sentence: {x[0]}\")\n",
    "print(f\"Raw strings: {x.values}\")"
   ]
  },
  {
   "cell_type": "markdown",
   "metadata": {},
   "source": [
    "Convert texts/sentences into a list of tokens:"
   ]
  },
  {
   "cell_type": "code",
   "execution_count": 17,
   "metadata": {},
   "outputs": [
    {
     "name": "stdout",
     "output_type": "stream",
     "text": [
      "[['what', 'a', 'great', 'movie', '!', 'if', 'you', 'have', 'no', 'taste', '.'], ['it', 'was', 'a', 'fantastic', 'performance', '!'], ['best', 'film', 'ever'], ['such', 'a', 'great', 'show', '!'], ['it', 'was', 'a', 'horrible', 'movie'], ['i', \"'ve\", 'never', 'watched', 'something', 'as', 'bad']]\n"
     ]
    }
   ],
   "source": [
    "print(x.to_tokens())"
   ]
  },
  {
   "cell_type": "markdown",
   "metadata": {},
   "source": [
    "#### Time series data"
   ]
  },
  {
   "cell_type": "markdown",
   "metadata": {},
   "source": [
    "The `Timeseries` class represents a time series. The values of metrics/variables are stored in a numpy array\n",
    "with shape `(timestamps, num_variables)`. We can construct a ``Timeseries`` instance from a pandas dataframe, where the index indicates the timestamps and the columns are the variables."
   ]
  },
  {
   "cell_type": "code",
   "execution_count": 18,
   "metadata": {},
   "outputs": [],
   "source": [
    "from omnixai.data.timeseries import Timeseries\n",
    "df = pd.DataFrame(\n",
    "   [['2017-12-27', 1263.94091, 394.507, 16.530],\n",
    "    ['2017-12-28', 1299.86398, 506.424, 14.162],\n",
    "    ['2017-12-29', 1319.76541, 610.314, 15.173]],\n",
    "   columns=['Date', 'Consumption', 'Wind', 'Solar']\n",
    ")\n",
    "df = df.set_index('Date')\n",
    "df.index = pd.to_datetime(df.index)"
   ]
  },
  {
   "cell_type": "code",
   "execution_count": 19,
   "metadata": {},
   "outputs": [
    {
     "name": "stdout",
     "output_type": "stream",
     "text": [
      "            Consumption     Wind   Solar\n",
      "2017-12-27   1263.94091  394.507  16.530\n",
      "2017-12-28   1299.86398  506.424  14.162\n",
      "2017-12-29   1319.76541  610.314  15.173\n"
     ]
    }
   ],
   "source": [
    "ts = Timeseries.from_pd(df)\n",
    "print(ts)"
   ]
  },
  {
   "cell_type": "markdown",
   "metadata": {},
   "source": [
    "Here are some useful functions:"
   ]
  },
  {
   "cell_type": "code",
   "execution_count": 20,
   "metadata": {},
   "outputs": [
    {
     "name": "stdout",
     "output_type": "stream",
     "text": [
      "Length of ts: 3\n",
      "Length of ts: 3\n",
      "Metrics: ['Consumption', 'Wind', 'Solar']\n",
      "Time-series shape: (3, 3)\n",
      "Select rows:\n",
      "            Consumption     Wind   Solar\n",
      "2017-12-28   1299.86398  506.424  14.162\n",
      "2017-12-27   1263.94091  394.507  16.530\n",
      "To pandas dataframe:\n",
      "            Consumption     Wind   Solar\n",
      "2017-12-27   1263.94091  394.507  16.530\n",
      "2017-12-28   1299.86398  506.424  14.162\n",
      "2017-12-29   1319.76541  610.314  15.173\n"
     ]
    }
   ],
   "source": [
    "print(f\"Length of ts: {len(ts)}\")\n",
    "print(f\"Length of ts: {ts.ts_len}\")\n",
    "print(f\"Metrics: {ts.columns}\")\n",
    "print(f\"Time-series shape: {ts.shape}\")\n",
    "print(\"Select rows:\")\n",
    "print(ts[[1, 0]])\n",
    "print(\"To pandas dataframe:\")\n",
    "print(ts.to_pd())"
   ]
  }
 ],
 "metadata": {
  "kernelspec": {
   "display_name": "Python 3",
   "language": "python",
   "name": "python3"
  },
  "language_info": {
   "codemirror_mode": {
    "name": "ipython",
    "version": 3
   },
   "file_extension": ".py",
   "mimetype": "text/x-python",
   "name": "python",
   "nbconvert_exporter": "python",
   "pygments_lexer": "ipython3",
   "version": "3.7.5"
  }
 },
 "nbformat": 4,
 "nbformat_minor": 2
}
