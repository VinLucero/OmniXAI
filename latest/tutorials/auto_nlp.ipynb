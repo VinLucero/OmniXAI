{
 "cells": [
  {
   "cell_type": "markdown",
   "metadata": {},
   "source": [
    "### NLPExplainer for sentiment analysis"
   ]
  },
  {
   "cell_type": "markdown",
   "metadata": {},
   "source": [
    "The class `NLPExplainer` is derived from `AutoExplainerBase` for NLP tasks, acting as a factory of the supported NLP explainers such as integrated-gradient and LIME. `NLPExplainer` provides a unified easy-to-use interface for all the supported explainers. Because the supported NLP explainers in the current version are limited, one can either use `NLPExplainer` or a specific explainer in the package `omnixai.explainers.nlp` to generate explanations."
   ]
  },
  {
   "cell_type": "code",
   "execution_count": 1,
   "metadata": {},
   "outputs": [],
   "source": [
    "import numpy as np\n",
    "import transformers\n",
    "from omnixai.data.text import Text\n",
    "from omnixai.explainers.nlp import NLPExplainer\n",
    "from omnixai.visualization.dashboard import Dashboard"
   ]
  },
  {
   "cell_type": "markdown",
   "metadata": {},
   "source": [
    "In this example, we consider a sentiment analysis task. The input is an instance of `Text`."
   ]
  },
  {
   "cell_type": "code",
   "execution_count": 2,
   "metadata": {},
   "outputs": [],
   "source": [
    "x = Text([\n",
    "    \"What a great movie! if you have no taste.\",\n",
    "    \"The Interview was neither that funny nor that witty. \"\n",
    "    \"Even if there are words like funny and witty, the overall structure is a negative type.\"\n",
    "])"
   ]
  },
  {
   "cell_type": "markdown",
   "metadata": {},
   "source": [
    "The model considered here is a transformer model. Similar to `TabularExplainer`, to initialize `NLPExplainer`, we need to set the following parameters:\n",
    "\n",
    "  - `explainers`: The names of the explainers to apply, e.g., [\"shap\", \"lime\"].\n",
    "  - `model`: The ML model to explain, e.g., a scikit-learn model, a tensorflow model or a pytorch model.\n",
    "  - `preprocess`: The preprocessing function converting the raw data into the inputs of model.\n",
    "  - `postprocess`: The postprocessing function transforming the outputs of model to a user-specific form, e.g., the predicted probability for each class.\n",
    "  - `mode`: The task type, e.g., \"classification\" or \"regression\".\n",
    "  \n",
    "The preprocessing function takes a `Text` instance as its input and outputs the processed features that the ML model consumes. In this example, the `Text` object is converted into a batch of strings.\n",
    "\n",
    "The postprocessing function converts the outputs into class probabilities."
   ]
  },
  {
   "cell_type": "code",
   "execution_count": 3,
   "metadata": {},
   "outputs": [],
   "source": [
    "# The preprocessing function\n",
    "preprocess = lambda x: x.values\n",
    "# A transformer model for sentiment analysis\n",
    "model = transformers.pipeline(\n",
    "    'sentiment-analysis',\n",
    "    model='/home/ywz/data/models/distilbert-base-uncased-finetuned-sst-2-english',\n",
    "    return_all_scores=True\n",
    ")\n",
    "# The postprocessing function\n",
    "postprocess = lambda outputs: np.array([[s[\"score\"] for s in ss] for ss in outputs])\n",
    "\n",
    "# Initialize a NLPExplainer\n",
    "explainer = NLPExplainer(\n",
    "    explainers=[\"shap\", \"lime\"],\n",
    "    mode=\"classification\",\n",
    "    model=model,\n",
    "    preprocess=preprocess,\n",
    "    postprocess=postprocess\n",
    ")"
   ]
  },
  {
   "cell_type": "markdown",
   "metadata": {},
   "source": [
    "There is no \"global explanation\" for `NLPExplainer` currently. One can simply call explainer.explain to generate local explanations for NLP tasks."
   ]
  },
  {
   "cell_type": "code",
   "execution_count": 4,
   "metadata": {},
   "outputs": [
    {
     "data": {
      "application/vnd.jupyter.widget-view+json": {
       "model_id": "",
       "version_major": 2,
       "version_minor": 0
      },
      "text/plain": [
       "  0%|          | 0/156 [00:00<?, ?it/s]"
      ]
     },
     "metadata": {},
     "output_type": "display_data"
    },
    {
     "data": {
      "application/vnd.jupyter.widget-view+json": {
       "model_id": "",
       "version_major": 2,
       "version_minor": 0
      },
      "text/plain": [
       "  0%|          | 0/248 [00:00<?, ?it/s]"
      ]
     },
     "metadata": {},
     "output_type": "display_data"
    },
    {
     "name": "stderr",
     "output_type": "stream",
     "text": [
      "Partition explainer: 3it [00:16, 16.56s/it]               \n"
     ]
    },
    {
     "name": "stdout",
     "output_type": "stream",
     "text": [
      "SHAP results:\n"
     ]
    },
    {
     "data": {
      "text/html": [
       "<div>Instance 0: Class POSITIVE</div>\n",
       "<div><span style='color:rgb(127,128,128)'> </span><span style='color:rgb(135,124,124)'>What </span><span style='color:rgb(110,163,110)'>a </span><span style='color:rgb(65,254,65)'>great </span><span style='color:rgb(125,133,125)'>movie </span><span style='color:rgb(130,127,127)'>! </span><span style='color:rgb(128,127,128)'>if </span><span style='color:rgb(111,161,111)'>you </span><span style='color:rgb(127,130,127)'>have </span><span style='color:rgb(186,99,99)'>no </span><span style='color:rgb(128,128,128)'>taste </span><span style='color:rgb(135,124,124)'>. </span><span style='color:rgb(127,128,128)'></span></div><br>\n",
       "<div>Instance 1: Class NEGATIVE</div>\n",
       "<div><span style='color:rgb(127,128,128)'> </span><span style='color:rgb(119,145,119)'>The </span><span style='color:rgb(120,144,120)'>Interview </span><span style='color:rgb(118,147,118)'>was </span><span style='color:rgb(74,236,74)'>neither </span><span style='color:rgb(124,135,124)'>that </span><span style='color:rgb(138,123,123)'>funny </span><span style='color:rgb(65,254,65)'>nor </span><span style='color:rgb(131,126,126)'>that </span><span style='color:rgb(229,77,77)'>witty </span><span style='color:rgb(128,128,128)'>. </span><span style='color:rgb(119,146,119)'>Even </span><span style='color:rgb(104,175,104)'>if </span><span style='color:rgb(125,134,125)'>there </span><span style='color:rgb(125,134,125)'>are </span><span style='color:rgb(130,127,127)'>words </span><span style='color:rgb(132,126,126)'>like </span><span style='color:rgb(131,126,126)'>funny </span><span style='color:rgb(122,140,122)'>and </span><span style='color:rgb(211,86,86)'>witty </span><span style='color:rgb(121,142,121)'>, </span><span style='color:rgb(122,140,122)'>the </span><span style='color:rgb(120,143,120)'>overall </span><span style='color:rgb(125,134,125)'>structure </span><span style='color:rgb(117,150,117)'>is </span><span style='color:rgb(128,127,128)'>a </span><span style='color:rgb(86,211,86)'>negative </span><span style='color:rgb(125,133,125)'>type </span><span style='color:rgb(122,140,122)'>. </span><span style='color:rgb(127,128,128)'></span></div><br>"
      ],
      "text/plain": [
       "<IPython.core.display.HTML object>"
      ]
     },
     "metadata": {},
     "output_type": "display_data"
    },
    {
     "name": "stdout",
     "output_type": "stream",
     "text": [
      "LIME results:\n"
     ]
    },
    {
     "data": {
      "text/html": [
       "<div>Instance 0: Class 1</div>\n",
       "<div><span style='color:rgb(254,65,65)'>no </span><span style='color:rgb(65,253,65)'>great </span><span style='color:rgb(67,249,67)'>if </span><span style='color:rgb(161,111,111)'>What </span><span style='color:rgb(156,114,114)'>have </span><span style='color:rgb(115,153,115)'>you </span><span style='color:rgb(123,138,123)'>taste </span><span style='color:rgb(124,135,124)'>a </span><span style='color:rgb(126,131,126)'>movie</span></div><br>\n",
       "<div>Instance 1: Class 0</div>\n",
       "<div><span style='color:rgb(65,254,65)'>neither </span><span style='color:rgb(68,247,68)'>nor </span><span style='color:rgb(97,189,97)'>negative </span><span style='color:rgb(154,115,115)'>witty </span><span style='color:rgb(118,148,118)'>is </span><span style='color:rgb(120,144,120)'>overall </span><span style='color:rgb(139,122,122)'>funny </span><span style='color:rgb(123,138,123)'>the </span><span style='color:rgb(137,123,123)'>Interview </span><span style='color:rgb(135,124,124)'>and</span></div><br>"
      ],
      "text/plain": [
       "<IPython.core.display.HTML object>"
      ]
     },
     "metadata": {},
     "output_type": "display_data"
    }
   ],
   "source": [
    "# Generates explanations\n",
    "local_explanations = explainer.explain(x)\n",
    "\n",
    "print(\"SHAP results:\")\n",
    "local_explanations[\"shap\"].ipython_plot()\n",
    "print(\"LIME results:\")\n",
    "local_explanations[\"lime\"].ipython_plot()"
   ]
  },
  {
   "cell_type": "markdown",
   "metadata": {},
   "source": [
    "Given the generated explanations, we can launch a dashboard (a Dash app) for visualization by setting the test instances and the generated local explanations."
   ]
  },
  {
   "cell_type": "code",
   "execution_count": 5,
   "metadata": {},
   "outputs": [
    {
     "name": "stdout",
     "output_type": "stream",
     "text": [
      "Dash is running on http://127.0.0.1:8050/\n",
      "\n",
      " * Serving Flask app \"omnixai.visualization.dashboard\" (lazy loading)\n",
      " * Environment: production\n",
      "   WARNING: This is a development server. Do not use it in a production deployment.\n",
      "   Use a production WSGI server instead.\n",
      " * Debug mode: off\n"
     ]
    },
    {
     "name": "stderr",
     "output_type": "stream",
     "text": [
      " * Running on http://127.0.0.1:8050/ (Press CTRL+C to quit)\n"
     ]
    }
   ],
   "source": [
    "# Launch a dashboard for visualization\n",
    "dashboard = Dashboard(\n",
    "    instances=x,\n",
    "    local_explanations=local_explanations\n",
    ")\n",
    "dashboard.show()"
   ]
  }
 ],
 "metadata": {
  "kernelspec": {
   "display_name": "Python 3",
   "language": "python",
   "name": "python3"
  },
  "language_info": {
   "codemirror_mode": {
    "name": "ipython",
    "version": 3
   },
   "file_extension": ".py",
   "mimetype": "text/x-python",
   "name": "python",
   "nbconvert_exporter": "python",
   "pygments_lexer": "ipython3",
   "version": "3.7.5"
  }
 },
 "nbformat": 4,
 "nbformat_minor": 2
}
